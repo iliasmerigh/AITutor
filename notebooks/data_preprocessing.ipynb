{
 "cells": [
  {
   "cell_type": "code",
   "execution_count": 117,
   "metadata": {},
   "outputs": [],
   "source": [
    "# Usefull imports\n",
    "import os\n",
    "import pandas as pd\n",
    "import numpy as np\n",
    "import collections\n",
    "import gpt_wrapper\n",
    "from gpt_wrapper.chat import Chat\n",
    "from datasets import load_dataset\n",
    "from sklearn.model_selection import train_test_split"
   ]
  },
  {
   "cell_type": "code",
   "execution_count": 3,
   "metadata": {},
   "outputs": [],
   "source": [
    "# Create the \"../data\" folder if it does not exist\n",
    "if not os.path.exists(\"../data\"):\n",
    "    os.makedirs(\"../data\")\n",
    "\n",
    "# Create the \"../data/test\" folder if it does not exist\n",
    "if not os.path.exists(\"../data/test\"):\n",
    "    os.makedirs(\"../data/test\")"
   ]
  },
  {
   "cell_type": "markdown",
   "metadata": {},
   "source": [
    "# Pre-processing"
   ]
  },
  {
   "cell_type": "markdown",
   "metadata": {},
   "source": [
    "### Collaborative dataset"
   ]
  },
  {
   "cell_type": "code",
   "execution_count": 2,
   "metadata": {},
   "outputs": [],
   "source": [
    "# Load the dataset\n",
    "preferences_df = pd.read_json('M1_preference_data_15052024.json')"
   ]
  },
  {
   "cell_type": "code",
   "execution_count": 3,
   "metadata": {},
   "outputs": [
    {
     "data": {
      "text/html": [
       "<div>\n",
       "<style scoped>\n",
       "    .dataframe tbody tr th:only-of-type {\n",
       "        vertical-align: middle;\n",
       "    }\n",
       "\n",
       "    .dataframe tbody tr th {\n",
       "        vertical-align: top;\n",
       "    }\n",
       "\n",
       "    .dataframe thead th {\n",
       "        text-align: right;\n",
       "    }\n",
       "</style>\n",
       "<table border=\"1\" class=\"dataframe\">\n",
       "  <thead>\n",
       "    <tr style=\"text-align: right;\">\n",
       "      <th></th>\n",
       "      <th>question_id</th>\n",
       "      <th>question_complete</th>\n",
       "      <th>course_id</th>\n",
       "      <th>preference</th>\n",
       "    </tr>\n",
       "  </thead>\n",
       "  <tbody>\n",
       "    <tr>\n",
       "      <th>0</th>\n",
       "      <td>0</td>\n",
       "      <td>Question: Consider the following contains func...</td>\n",
       "      <td>15000</td>\n",
       "      <td>[{'A': 'The asymptotic depth of the contains f...</td>\n",
       "    </tr>\n",
       "    <tr>\n",
       "      <th>1</th>\n",
       "      <td>3</td>\n",
       "      <td>Question: What is the asymptotic work of &lt;code...</td>\n",
       "      <td>15000</td>\n",
       "      <td>[{'A': '...', 'B': '...', 'overall': 'A', 'cri...</td>\n",
       "    </tr>\n",
       "    <tr>\n",
       "      <th>2</th>\n",
       "      <td>4</td>\n",
       "      <td>Question: We have a collection of rectangles i...</td>\n",
       "      <td>15000</td>\n",
       "      <td>[{'A': 'Facts:\n",
       "- Rectangles in the plane have ...</td>\n",
       "    </tr>\n",
       "    <tr>\n",
       "      <th>3</th>\n",
       "      <td>5</td>\n",
       "      <td>Question: Which of the following scheduler pol...</td>\n",
       "      <td>15005</td>\n",
       "      <td>[{'A': 'Preemptive scheduling policies allow t...</td>\n",
       "    </tr>\n",
       "    <tr>\n",
       "      <th>4</th>\n",
       "      <td>7</td>\n",
       "      <td>Question: In this week's lecture, you have bee...</td>\n",
       "      <td>15000</td>\n",
       "      <td>[{'A': 'For the computation g(g(1, x1), g(x2, ...</td>\n",
       "    </tr>\n",
       "  </tbody>\n",
       "</table>\n",
       "</div>"
      ],
      "text/plain": [
       "   question_id                                  question_complete  course_id  \\\n",
       "0            0  Question: Consider the following contains func...      15000   \n",
       "1            3  Question: What is the asymptotic work of <code...      15000   \n",
       "2            4  Question: We have a collection of rectangles i...      15000   \n",
       "3            5  Question: Which of the following scheduler pol...      15005   \n",
       "4            7  Question: In this week's lecture, you have bee...      15000   \n",
       "\n",
       "                                          preference  \n",
       "0  [{'A': 'The asymptotic depth of the contains f...  \n",
       "1  [{'A': '...', 'B': '...', 'overall': 'A', 'cri...  \n",
       "2  [{'A': 'Facts:\n",
       "- Rectangles in the plane have ...  \n",
       "3  [{'A': 'Preemptive scheduling policies allow t...  \n",
       "4  [{'A': 'For the computation g(g(1, x1), g(x2, ...  "
      ]
     },
     "metadata": {},
     "output_type": "display_data"
    },
    {
     "name": "stdout",
     "output_type": "stream",
     "text": [
      "Length of the dataset:  1522\n"
     ]
    }
   ],
   "source": [
    "# Get some insights about the dataset\n",
    "display(preferences_df.head())\n",
    "print(\"Length of the dataset: \", len(preferences_df))"
   ]
  },
  {
   "cell_type": "code",
   "execution_count": 4,
   "metadata": {},
   "outputs": [],
   "source": [
    "# Separate the preferences answers into different rows\n",
    "preferences_df = preferences_df.explode('preference')\n",
    "\n",
    "# Create relevant columns\n",
    "preferences_df['prompt'] = preferences_df['question_complete']\n",
    "preferences_df[\"chosen\"] = preferences_df[\"preference\"].apply(lambda x: x[\"A\"] if x[\"overall\"] == \"A\" else x[\"B\"])\n",
    "preferences_df[\"rejected\"] = preferences_df[\"preference\"].apply(lambda x: x[\"B\"] if x[\"overall\"] == \"A\" else x[\"A\"])\n",
    "\n",
    "# Keep only the relevant columns\n",
    "preferences_df = preferences_df[['prompt', 'chosen', 'rejected']]\n"
   ]
  },
  {
   "cell_type": "code",
   "execution_count": 5,
   "metadata": {},
   "outputs": [
    {
     "data": {
      "text/html": [
       "<div>\n",
       "<style scoped>\n",
       "    .dataframe tbody tr th:only-of-type {\n",
       "        vertical-align: middle;\n",
       "    }\n",
       "\n",
       "    .dataframe tbody tr th {\n",
       "        vertical-align: top;\n",
       "    }\n",
       "\n",
       "    .dataframe thead th {\n",
       "        text-align: right;\n",
       "    }\n",
       "</style>\n",
       "<table border=\"1\" class=\"dataframe\">\n",
       "  <thead>\n",
       "    <tr style=\"text-align: right;\">\n",
       "      <th></th>\n",
       "      <th>prompt</th>\n",
       "      <th>chosen</th>\n",
       "      <th>rejected</th>\n",
       "    </tr>\n",
       "  </thead>\n",
       "  <tbody>\n",
       "    <tr>\n",
       "      <th>0</th>\n",
       "      <td>Question: Consider the following contains func...</td>\n",
       "      <td>When `contains` is called on a List, the `drop...</td>\n",
       "      <td>The asymptotic depth of the contains function ...</td>\n",
       "    </tr>\n",
       "    <tr>\n",
       "      <th>0</th>\n",
       "      <td>Question: Consider the following contains func...</td>\n",
       "      <td>To determine the asymptotic depth of the `cont...</td>\n",
       "      <td>The asymptotic depth of the contains function ...</td>\n",
       "    </tr>\n",
       "    <tr>\n",
       "      <th>0</th>\n",
       "      <td>Question: Consider the following contains func...</td>\n",
       "      <td>To determine the asymptotic depth of the `cont...</td>\n",
       "      <td>The asymptotic depth of the `contains` functio...</td>\n",
       "    </tr>\n",
       "    <tr>\n",
       "      <th>0</th>\n",
       "      <td>Question: Consider the following contains func...</td>\n",
       "      <td>To determine the asymptotic depth of the `cont...</td>\n",
       "      <td>The contains function is a recursive function ...</td>\n",
       "    </tr>\n",
       "    <tr>\n",
       "      <th>0</th>\n",
       "      <td>Question: Consider the following contains func...</td>\n",
       "      <td>The asymptotic depth of the contains function ...</td>\n",
       "      <td>When the contains function is called on a List...</td>\n",
       "    </tr>\n",
       "  </tbody>\n",
       "</table>\n",
       "</div>"
      ],
      "text/plain": [
       "                                              prompt  \\\n",
       "0  Question: Consider the following contains func...   \n",
       "0  Question: Consider the following contains func...   \n",
       "0  Question: Consider the following contains func...   \n",
       "0  Question: Consider the following contains func...   \n",
       "0  Question: Consider the following contains func...   \n",
       "\n",
       "                                              chosen  \\\n",
       "0  When `contains` is called on a List, the `drop...   \n",
       "0  To determine the asymptotic depth of the `cont...   \n",
       "0  To determine the asymptotic depth of the `cont...   \n",
       "0  To determine the asymptotic depth of the `cont...   \n",
       "0  The asymptotic depth of the contains function ...   \n",
       "\n",
       "                                            rejected  \n",
       "0  The asymptotic depth of the contains function ...  \n",
       "0  The asymptotic depth of the contains function ...  \n",
       "0  The asymptotic depth of the `contains` functio...  \n",
       "0  The contains function is a recursive function ...  \n",
       "0  When the contains function is called on a List...  "
      ]
     },
     "metadata": {},
     "output_type": "display_data"
    },
    {
     "name": "stdout",
     "output_type": "stream",
     "text": [
      "Length of the dataset:  26738\n"
     ]
    }
   ],
   "source": [
    "# Verify the dataset\n",
    "display(preferences_df.head())\n",
    "print(\"Length of the dataset: \", len(preferences_df))"
   ]
  },
  {
   "cell_type": "code",
   "execution_count": 6,
   "metadata": {},
   "outputs": [],
   "source": [
    "# Save the dataset in a jsonl file\n",
    "preferences_df.to_json('../data/collaborative_dataset.jsonl', orient='records', lines=True)"
   ]
  },
  {
   "cell_type": "markdown",
   "metadata": {},
   "source": [
    "### Argilla dataset"
   ]
  },
  {
   "cell_type": "code",
   "execution_count": 7,
   "metadata": {},
   "outputs": [],
   "source": [
    "# Load the dataset from: https://huggingface.co/datasets/argilla/ultrafeedback-binarized-preferences\n",
    "argilla_dataset = load_dataset(\"argilla/ultrafeedback-binarized-preferences\")"
   ]
  },
  {
   "cell_type": "code",
   "execution_count": 8,
   "metadata": {},
   "outputs": [
    {
     "data": {
      "text/html": [
       "<div>\n",
       "<style scoped>\n",
       "    .dataframe tbody tr th:only-of-type {\n",
       "        vertical-align: middle;\n",
       "    }\n",
       "\n",
       "    .dataframe tbody tr th {\n",
       "        vertical-align: top;\n",
       "    }\n",
       "\n",
       "    .dataframe thead th {\n",
       "        text-align: right;\n",
       "    }\n",
       "</style>\n",
       "<table border=\"1\" class=\"dataframe\">\n",
       "  <thead>\n",
       "    <tr style=\"text-align: right;\">\n",
       "      <th></th>\n",
       "      <th>source</th>\n",
       "      <th>instruction</th>\n",
       "      <th>chosen_response</th>\n",
       "      <th>rejected_response</th>\n",
       "      <th>chosen_avg_rating</th>\n",
       "      <th>rejected_avg_rating</th>\n",
       "      <th>chosen_model</th>\n",
       "    </tr>\n",
       "  </thead>\n",
       "  <tbody>\n",
       "    <tr>\n",
       "      <th>0</th>\n",
       "      <td>evol_instruct</td>\n",
       "      <td>Can you write a C++ program that prompts the u...</td>\n",
       "      <td>Here's a C++ program that prompts the user to ...</td>\n",
       "      <td>Sure, here is the program using the C++11 algo...</td>\n",
       "      <td>5.00</td>\n",
       "      <td>1.25</td>\n",
       "      <td>starchat</td>\n",
       "    </tr>\n",
       "    <tr>\n",
       "      <th>1</th>\n",
       "      <td>evol_instruct</td>\n",
       "      <td>Suppose you are a content creator and want to ...</td>\n",
       "      <td>To use GPT for generating compelling titles an...</td>\n",
       "      <td>Sure! Although GPT cannot generate text on its...</td>\n",
       "      <td>4.75</td>\n",
       "      <td>3.25</td>\n",
       "      <td>gpt-4</td>\n",
       "    </tr>\n",
       "    <tr>\n",
       "      <th>2</th>\n",
       "      <td>evol_instruct</td>\n",
       "      <td>Identify the interrelated economic, political,...</td>\n",
       "      <td>The stock market crash of 1929, which marked t...</td>\n",
       "      <td>The stock market crash of 1929 was a result of...</td>\n",
       "      <td>4.50</td>\n",
       "      <td>4.25</td>\n",
       "      <td>vicuna-33b</td>\n",
       "    </tr>\n",
       "    <tr>\n",
       "      <th>3</th>\n",
       "      <td>evol_instruct</td>\n",
       "      <td>How can I convert the decimal number 31 to bin...</td>\n",
       "      <td>Yes, I can provide the JavaScript code for con...</td>\n",
       "      <td>The following JavaScript code can be used to c...</td>\n",
       "      <td>5.00</td>\n",
       "      <td>3.75</td>\n",
       "      <td>mpt-30b-chat</td>\n",
       "    </tr>\n",
       "    <tr>\n",
       "      <th>4</th>\n",
       "      <td>evol_instruct</td>\n",
       "      <td>Can you modify the C++ code provided below to ...</td>\n",
       "      <td>Unfortunately, I cannot modify the given C++ c...</td>\n",
       "      <td>Sure, I can help you with that. Here's how you...</td>\n",
       "      <td>4.00</td>\n",
       "      <td>2.00</td>\n",
       "      <td>ultralm-13b</td>\n",
       "    </tr>\n",
       "  </tbody>\n",
       "</table>\n",
       "</div>"
      ],
      "text/plain": [
       "          source                                        instruction  \\\n",
       "0  evol_instruct  Can you write a C++ program that prompts the u...   \n",
       "1  evol_instruct  Suppose you are a content creator and want to ...   \n",
       "2  evol_instruct  Identify the interrelated economic, political,...   \n",
       "3  evol_instruct  How can I convert the decimal number 31 to bin...   \n",
       "4  evol_instruct  Can you modify the C++ code provided below to ...   \n",
       "\n",
       "                                     chosen_response  \\\n",
       "0  Here's a C++ program that prompts the user to ...   \n",
       "1  To use GPT for generating compelling titles an...   \n",
       "2  The stock market crash of 1929, which marked t...   \n",
       "3  Yes, I can provide the JavaScript code for con...   \n",
       "4  Unfortunately, I cannot modify the given C++ c...   \n",
       "\n",
       "                                   rejected_response  chosen_avg_rating  \\\n",
       "0  Sure, here is the program using the C++11 algo...               5.00   \n",
       "1  Sure! Although GPT cannot generate text on its...               4.75   \n",
       "2  The stock market crash of 1929 was a result of...               4.50   \n",
       "3  The following JavaScript code can be used to c...               5.00   \n",
       "4  Sure, I can help you with that. Here's how you...               4.00   \n",
       "\n",
       "   rejected_avg_rating  chosen_model  \n",
       "0                 1.25      starchat  \n",
       "1                 3.25         gpt-4  \n",
       "2                 4.25    vicuna-33b  \n",
       "3                 3.75  mpt-30b-chat  \n",
       "4                 2.00   ultralm-13b  "
      ]
     },
     "metadata": {},
     "output_type": "display_data"
    },
    {
     "name": "stdout",
     "output_type": "stream",
     "text": [
      "Length of the dataset:  63619\n"
     ]
    }
   ],
   "source": [
    "# Create a pandas dataframe from the dataset\n",
    "argilla_df = argilla_dataset['train'].to_pandas()\n",
    "\n",
    "# Get some insights about the dataset\n",
    "display(argilla_df.head())\n",
    "print(\"Length of the dataset: \", len(argilla_df))"
   ]
  },
  {
   "cell_type": "code",
   "execution_count": 9,
   "metadata": {},
   "outputs": [],
   "source": [
    "# Rename the columns\n",
    "argilla_df = argilla_df.rename(columns={'instruction': 'prompt', 'chosen_response': 'chosen', 'rejected_response': 'rejected'})\n",
    "\n",
    "# Keep only the relevant columns\n",
    "argilla_df = argilla_df[['prompt', 'chosen', 'rejected']]"
   ]
  },
  {
   "cell_type": "code",
   "execution_count": 10,
   "metadata": {},
   "outputs": [
    {
     "data": {
      "text/html": [
       "<div>\n",
       "<style scoped>\n",
       "    .dataframe tbody tr th:only-of-type {\n",
       "        vertical-align: middle;\n",
       "    }\n",
       "\n",
       "    .dataframe tbody tr th {\n",
       "        vertical-align: top;\n",
       "    }\n",
       "\n",
       "    .dataframe thead th {\n",
       "        text-align: right;\n",
       "    }\n",
       "</style>\n",
       "<table border=\"1\" class=\"dataframe\">\n",
       "  <thead>\n",
       "    <tr style=\"text-align: right;\">\n",
       "      <th></th>\n",
       "      <th>prompt</th>\n",
       "      <th>chosen</th>\n",
       "      <th>rejected</th>\n",
       "    </tr>\n",
       "  </thead>\n",
       "  <tbody>\n",
       "    <tr>\n",
       "      <th>0</th>\n",
       "      <td>Can you write a C++ program that prompts the u...</td>\n",
       "      <td>Here's a C++ program that prompts the user to ...</td>\n",
       "      <td>Sure, here is the program using the C++11 algo...</td>\n",
       "    </tr>\n",
       "    <tr>\n",
       "      <th>1</th>\n",
       "      <td>Suppose you are a content creator and want to ...</td>\n",
       "      <td>To use GPT for generating compelling titles an...</td>\n",
       "      <td>Sure! Although GPT cannot generate text on its...</td>\n",
       "    </tr>\n",
       "    <tr>\n",
       "      <th>2</th>\n",
       "      <td>Identify the interrelated economic, political,...</td>\n",
       "      <td>The stock market crash of 1929, which marked t...</td>\n",
       "      <td>The stock market crash of 1929 was a result of...</td>\n",
       "    </tr>\n",
       "    <tr>\n",
       "      <th>3</th>\n",
       "      <td>How can I convert the decimal number 31 to bin...</td>\n",
       "      <td>Yes, I can provide the JavaScript code for con...</td>\n",
       "      <td>The following JavaScript code can be used to c...</td>\n",
       "    </tr>\n",
       "    <tr>\n",
       "      <th>4</th>\n",
       "      <td>Can you modify the C++ code provided below to ...</td>\n",
       "      <td>Unfortunately, I cannot modify the given C++ c...</td>\n",
       "      <td>Sure, I can help you with that. Here's how you...</td>\n",
       "    </tr>\n",
       "  </tbody>\n",
       "</table>\n",
       "</div>"
      ],
      "text/plain": [
       "                                              prompt  \\\n",
       "0  Can you write a C++ program that prompts the u...   \n",
       "1  Suppose you are a content creator and want to ...   \n",
       "2  Identify the interrelated economic, political,...   \n",
       "3  How can I convert the decimal number 31 to bin...   \n",
       "4  Can you modify the C++ code provided below to ...   \n",
       "\n",
       "                                              chosen  \\\n",
       "0  Here's a C++ program that prompts the user to ...   \n",
       "1  To use GPT for generating compelling titles an...   \n",
       "2  The stock market crash of 1929, which marked t...   \n",
       "3  Yes, I can provide the JavaScript code for con...   \n",
       "4  Unfortunately, I cannot modify the given C++ c...   \n",
       "\n",
       "                                            rejected  \n",
       "0  Sure, here is the program using the C++11 algo...  \n",
       "1  Sure! Although GPT cannot generate text on its...  \n",
       "2  The stock market crash of 1929 was a result of...  \n",
       "3  The following JavaScript code can be used to c...  \n",
       "4  Sure, I can help you with that. Here's how you...  "
      ]
     },
     "metadata": {},
     "output_type": "display_data"
    },
    {
     "name": "stdout",
     "output_type": "stream",
     "text": [
      "Length of the dataset:  63619\n"
     ]
    }
   ],
   "source": [
    "# Verify the dataset\n",
    "display(argilla_df.head())\n",
    "print(\"Length of the dataset: \", len(argilla_df))"
   ]
  },
  {
   "cell_type": "code",
   "execution_count": 11,
   "metadata": {},
   "outputs": [],
   "source": [
    "# Save the dataset in a jsonl file\n",
    "argilla_df.to_json('../data/argilla_dataset.jsonl', orient='records', lines=True)"
   ]
  },
  {
   "cell_type": "markdown",
   "metadata": {},
   "source": [
    "### Intel dataset"
   ]
  },
  {
   "cell_type": "code",
   "execution_count": 12,
   "metadata": {},
   "outputs": [],
   "source": [
    "# Load the dataset from: https://huggingface.co/datasets/Intel/orca_dpo_pairs\n",
    "intel_dataset = load_dataset(\"Intel/orca_dpo_pairs\")"
   ]
  },
  {
   "cell_type": "code",
   "execution_count": 13,
   "metadata": {},
   "outputs": [
    {
     "data": {
      "text/html": [
       "<div>\n",
       "<style scoped>\n",
       "    .dataframe tbody tr th:only-of-type {\n",
       "        vertical-align: middle;\n",
       "    }\n",
       "\n",
       "    .dataframe tbody tr th {\n",
       "        vertical-align: top;\n",
       "    }\n",
       "\n",
       "    .dataframe thead th {\n",
       "        text-align: right;\n",
       "    }\n",
       "</style>\n",
       "<table border=\"1\" class=\"dataframe\">\n",
       "  <thead>\n",
       "    <tr style=\"text-align: right;\">\n",
       "      <th></th>\n",
       "      <th>system</th>\n",
       "      <th>question</th>\n",
       "      <th>chosen</th>\n",
       "      <th>rejected</th>\n",
       "    </tr>\n",
       "  </thead>\n",
       "  <tbody>\n",
       "    <tr>\n",
       "      <th>0</th>\n",
       "      <td></td>\n",
       "      <td>You will be given a definition of a task first...</td>\n",
       "      <td>[\\n  [\"AFC Ajax (amateurs)\", \"has ground\", \"Sp...</td>\n",
       "      <td>Sure, I'd be happy to help! Here are the RDF ...</td>\n",
       "    </tr>\n",
       "    <tr>\n",
       "      <th>1</th>\n",
       "      <td>You are an AI assistant. You will be given a t...</td>\n",
       "      <td>Generate an approximately fifteen-word sentenc...</td>\n",
       "      <td>Midsummer House is a moderately priced Chinese...</td>\n",
       "      <td>Sure! Here's a sentence that describes all th...</td>\n",
       "    </tr>\n",
       "    <tr>\n",
       "      <th>2</th>\n",
       "      <td>You are a helpful assistant, who always provid...</td>\n",
       "      <td>What happens next in this paragraph?\\n\\nShe th...</td>\n",
       "      <td>C. She then dips the needle in ink and using t...</td>\n",
       "      <td>Ooh, let me think! *giggle* Okay, I know what...</td>\n",
       "    </tr>\n",
       "    <tr>\n",
       "      <th>3</th>\n",
       "      <td>You are an AI assistant. You will be given a t...</td>\n",
       "      <td>Please answer the following question: I want t...</td>\n",
       "      <td>Based on the passage, discuss the primary moti...</td>\n",
       "      <td>Certainly! Here's a detailed and long answer ...</td>\n",
       "    </tr>\n",
       "    <tr>\n",
       "      <th>4</th>\n",
       "      <td>You are an AI assistant that helps people find...</td>\n",
       "      <td>James runs a TV show and there are 5 main char...</td>\n",
       "      <td>James pays the minor characters $15,000 each e...</td>\n",
       "      <td>Sure, I'd be happy to help! To calculate how ...</td>\n",
       "    </tr>\n",
       "  </tbody>\n",
       "</table>\n",
       "</div>"
      ],
      "text/plain": [
       "                                              system  \\\n",
       "0                                                      \n",
       "1  You are an AI assistant. You will be given a t...   \n",
       "2  You are a helpful assistant, who always provid...   \n",
       "3  You are an AI assistant. You will be given a t...   \n",
       "4  You are an AI assistant that helps people find...   \n",
       "\n",
       "                                            question  \\\n",
       "0  You will be given a definition of a task first...   \n",
       "1  Generate an approximately fifteen-word sentenc...   \n",
       "2  What happens next in this paragraph?\\n\\nShe th...   \n",
       "3  Please answer the following question: I want t...   \n",
       "4  James runs a TV show and there are 5 main char...   \n",
       "\n",
       "                                              chosen  \\\n",
       "0  [\\n  [\"AFC Ajax (amateurs)\", \"has ground\", \"Sp...   \n",
       "1  Midsummer House is a moderately priced Chinese...   \n",
       "2  C. She then dips the needle in ink and using t...   \n",
       "3  Based on the passage, discuss the primary moti...   \n",
       "4  James pays the minor characters $15,000 each e...   \n",
       "\n",
       "                                            rejected  \n",
       "0   Sure, I'd be happy to help! Here are the RDF ...  \n",
       "1   Sure! Here's a sentence that describes all th...  \n",
       "2   Ooh, let me think! *giggle* Okay, I know what...  \n",
       "3   Certainly! Here's a detailed and long answer ...  \n",
       "4   Sure, I'd be happy to help! To calculate how ...  "
      ]
     },
     "metadata": {},
     "output_type": "display_data"
    },
    {
     "name": "stdout",
     "output_type": "stream",
     "text": [
      "Length of the dataset:  12859\n"
     ]
    }
   ],
   "source": [
    "# Create a pandas dataframe from the dataset\n",
    "intel_df = intel_dataset['train'].to_pandas()\n",
    "\n",
    "# Get some insights about the dataset\n",
    "display(intel_df.head())\n",
    "print(\"Length of the dataset: \", len(intel_df))"
   ]
  },
  {
   "cell_type": "code",
   "execution_count": 14,
   "metadata": {},
   "outputs": [],
   "source": [
    "# Rename the columns\n",
    "intel_df = intel_df.rename(columns={'question': 'prompt'})\n",
    "\n",
    "# Keep only the relevant columns\n",
    "intel_df = intel_df[['prompt', 'chosen', 'rejected']]"
   ]
  },
  {
   "cell_type": "code",
   "execution_count": 15,
   "metadata": {},
   "outputs": [
    {
     "data": {
      "text/html": [
       "<div>\n",
       "<style scoped>\n",
       "    .dataframe tbody tr th:only-of-type {\n",
       "        vertical-align: middle;\n",
       "    }\n",
       "\n",
       "    .dataframe tbody tr th {\n",
       "        vertical-align: top;\n",
       "    }\n",
       "\n",
       "    .dataframe thead th {\n",
       "        text-align: right;\n",
       "    }\n",
       "</style>\n",
       "<table border=\"1\" class=\"dataframe\">\n",
       "  <thead>\n",
       "    <tr style=\"text-align: right;\">\n",
       "      <th></th>\n",
       "      <th>prompt</th>\n",
       "      <th>chosen</th>\n",
       "      <th>rejected</th>\n",
       "    </tr>\n",
       "  </thead>\n",
       "  <tbody>\n",
       "    <tr>\n",
       "      <th>0</th>\n",
       "      <td>You will be given a definition of a task first...</td>\n",
       "      <td>[\\n  [\"AFC Ajax (amateurs)\", \"has ground\", \"Sp...</td>\n",
       "      <td>Sure, I'd be happy to help! Here are the RDF ...</td>\n",
       "    </tr>\n",
       "    <tr>\n",
       "      <th>1</th>\n",
       "      <td>Generate an approximately fifteen-word sentenc...</td>\n",
       "      <td>Midsummer House is a moderately priced Chinese...</td>\n",
       "      <td>Sure! Here's a sentence that describes all th...</td>\n",
       "    </tr>\n",
       "    <tr>\n",
       "      <th>2</th>\n",
       "      <td>What happens next in this paragraph?\\n\\nShe th...</td>\n",
       "      <td>C. She then dips the needle in ink and using t...</td>\n",
       "      <td>Ooh, let me think! *giggle* Okay, I know what...</td>\n",
       "    </tr>\n",
       "    <tr>\n",
       "      <th>3</th>\n",
       "      <td>Please answer the following question: I want t...</td>\n",
       "      <td>Based on the passage, discuss the primary moti...</td>\n",
       "      <td>Certainly! Here's a detailed and long answer ...</td>\n",
       "    </tr>\n",
       "    <tr>\n",
       "      <th>4</th>\n",
       "      <td>James runs a TV show and there are 5 main char...</td>\n",
       "      <td>James pays the minor characters $15,000 each e...</td>\n",
       "      <td>Sure, I'd be happy to help! To calculate how ...</td>\n",
       "    </tr>\n",
       "  </tbody>\n",
       "</table>\n",
       "</div>"
      ],
      "text/plain": [
       "                                              prompt  \\\n",
       "0  You will be given a definition of a task first...   \n",
       "1  Generate an approximately fifteen-word sentenc...   \n",
       "2  What happens next in this paragraph?\\n\\nShe th...   \n",
       "3  Please answer the following question: I want t...   \n",
       "4  James runs a TV show and there are 5 main char...   \n",
       "\n",
       "                                              chosen  \\\n",
       "0  [\\n  [\"AFC Ajax (amateurs)\", \"has ground\", \"Sp...   \n",
       "1  Midsummer House is a moderately priced Chinese...   \n",
       "2  C. She then dips the needle in ink and using t...   \n",
       "3  Based on the passage, discuss the primary moti...   \n",
       "4  James pays the minor characters $15,000 each e...   \n",
       "\n",
       "                                            rejected  \n",
       "0   Sure, I'd be happy to help! Here are the RDF ...  \n",
       "1   Sure! Here's a sentence that describes all th...  \n",
       "2   Ooh, let me think! *giggle* Okay, I know what...  \n",
       "3   Certainly! Here's a detailed and long answer ...  \n",
       "4   Sure, I'd be happy to help! To calculate how ...  "
      ]
     },
     "metadata": {},
     "output_type": "display_data"
    },
    {
     "name": "stdout",
     "output_type": "stream",
     "text": [
      "Length of the dataset:  12859\n"
     ]
    }
   ],
   "source": [
    "# Verify the dataset\n",
    "display(intel_df.head())\n",
    "print(\"Length of the dataset: \", len(intel_df))"
   ]
  },
  {
   "cell_type": "code",
   "execution_count": 16,
   "metadata": {},
   "outputs": [],
   "source": [
    "# Save the dataset in a jsonl file\n",
    "intel_df.to_json('../data/intel_dataset.jsonl', orient='records', lines=True)"
   ]
  },
  {
   "cell_type": "markdown",
   "metadata": {},
   "source": [
    "### Nectar dataset"
   ]
  },
  {
   "cell_type": "code",
   "execution_count": 4,
   "metadata": {},
   "outputs": [],
   "source": [
    "# Load the dataset from: https://huggingface.co/datasets/berkeley-nest/Nectar\n",
    "nectar_dataset = load_dataset(\"berkeley-nest/Nectar\")"
   ]
  },
  {
   "cell_type": "code",
   "execution_count": 5,
   "metadata": {},
   "outputs": [
    {
     "data": {
      "text/html": [
       "<div>\n",
       "<style scoped>\n",
       "    .dataframe tbody tr th:only-of-type {\n",
       "        vertical-align: middle;\n",
       "    }\n",
       "\n",
       "    .dataframe tbody tr th {\n",
       "        vertical-align: top;\n",
       "    }\n",
       "\n",
       "    .dataframe thead th {\n",
       "        text-align: right;\n",
       "    }\n",
       "</style>\n",
       "<table border=\"1\" class=\"dataframe\">\n",
       "  <thead>\n",
       "    <tr style=\"text-align: right;\">\n",
       "      <th></th>\n",
       "      <th>prompt</th>\n",
       "      <th>answers</th>\n",
       "      <th>turns</th>\n",
       "      <th>num_responses</th>\n",
       "      <th>source</th>\n",
       "      <th>good_natured</th>\n",
       "    </tr>\n",
       "  </thead>\n",
       "  <tbody>\n",
       "    <tr>\n",
       "      <th>0</th>\n",
       "      <td>\\n\\nHuman: 0.002 = 1000 \\n1 = x?\\n\\nAssistant:</td>\n",
       "      <td>[{'answer': 'To find the value of x, we can se...</td>\n",
       "      <td>1</td>\n",
       "      <td>7</td>\n",
       "      <td>[sharegpt]</td>\n",
       "      <td>True</td>\n",
       "    </tr>\n",
       "    <tr>\n",
       "      <th>1</th>\n",
       "      <td>\\n\\nHuman: 0:00\\nwhat's going on guys it's NAM...</td>\n",
       "      <td>[{'answer': 'Hello! It seems like you're shari...</td>\n",
       "      <td>1</td>\n",
       "      <td>7</td>\n",
       "      <td>[lmsys-chat-1m]</td>\n",
       "      <td>True</td>\n",
       "    </tr>\n",
       "    <tr>\n",
       "      <th>2</th>\n",
       "      <td>\\n\\nHuman: 01011001 01001111 01010101 00100000...</td>\n",
       "      <td>[{'answer': 'The binary code you provided tran...</td>\n",
       "      <td>1</td>\n",
       "      <td>7</td>\n",
       "      <td>[anthropic-hh]</td>\n",
       "      <td>True</td>\n",
       "    </tr>\n",
       "    <tr>\n",
       "      <th>3</th>\n",
       "      <td>\\n\\nHuman: \"012345\", \"001122\", \"ee44aa\", \"abcd...</td>\n",
       "      <td>[{'answer': 'Sure, I can help you write a func...</td>\n",
       "      <td>1</td>\n",
       "      <td>7</td>\n",
       "      <td>[lmsys-chat-1m]</td>\n",
       "      <td>True</td>\n",
       "    </tr>\n",
       "    <tr>\n",
       "      <th>4</th>\n",
       "      <td>\\n\\nHuman: #01 You are an assistant that helps...</td>\n",
       "      <td>[{'answer': '{\n",
       "    \"thoughts\": \"Based on the c...</td>\n",
       "      <td>1</td>\n",
       "      <td>7</td>\n",
       "      <td>[lmsys-chat-1m]</td>\n",
       "      <td>True</td>\n",
       "    </tr>\n",
       "  </tbody>\n",
       "</table>\n",
       "</div>"
      ],
      "text/plain": [
       "                                              prompt  \\\n",
       "0    \\n\\nHuman: 0.002 = 1000 \\n1 = x?\\n\\nAssistant:    \n",
       "1  \\n\\nHuman: 0:00\\nwhat's going on guys it's NAM...   \n",
       "2  \\n\\nHuman: 01011001 01001111 01010101 00100000...   \n",
       "3  \\n\\nHuman: \"012345\", \"001122\", \"ee44aa\", \"abcd...   \n",
       "4  \\n\\nHuman: #01 You are an assistant that helps...   \n",
       "\n",
       "                                             answers  turns  num_responses  \\\n",
       "0  [{'answer': 'To find the value of x, we can se...      1              7   \n",
       "1  [{'answer': 'Hello! It seems like you're shari...      1              7   \n",
       "2  [{'answer': 'The binary code you provided tran...      1              7   \n",
       "3  [{'answer': 'Sure, I can help you write a func...      1              7   \n",
       "4  [{'answer': '{\n",
       "    \"thoughts\": \"Based on the c...      1              7   \n",
       "\n",
       "            source  good_natured  \n",
       "0       [sharegpt]          True  \n",
       "1  [lmsys-chat-1m]          True  \n",
       "2   [anthropic-hh]          True  \n",
       "3  [lmsys-chat-1m]          True  \n",
       "4  [lmsys-chat-1m]          True  "
      ]
     },
     "metadata": {},
     "output_type": "display_data"
    },
    {
     "name": "stdout",
     "output_type": "stream",
     "text": [
      "Length of the dataset:  182954\n"
     ]
    }
   ],
   "source": [
    "# Create a pandas dataframe from the dataset\n",
    "nectar_df = nectar_dataset['train'].to_pandas()\n",
    "\n",
    "# Get some insights about the dataset\n",
    "display(nectar_df.head())\n",
    "print(\"Length of the dataset: \", len(nectar_df))"
   ]
  },
  {
   "cell_type": "code",
   "execution_count": 6,
   "metadata": {},
   "outputs": [],
   "source": [
    "# Create relevant columns\n",
    "nectar_df['chosen'] = nectar_df['answers'].apply(lambda x: x[0]['answer'])\n",
    "nectar_df['rejected'] = nectar_df['answers'].apply(lambda x: x[-1]['answer'])\n",
    "\n",
    "# Keep only the relevant columns\n",
    "nectar_df = nectar_df[['prompt', 'chosen', 'rejected']]"
   ]
  },
  {
   "cell_type": "code",
   "execution_count": 7,
   "metadata": {},
   "outputs": [
    {
     "data": {
      "text/html": [
       "<div>\n",
       "<style scoped>\n",
       "    .dataframe tbody tr th:only-of-type {\n",
       "        vertical-align: middle;\n",
       "    }\n",
       "\n",
       "    .dataframe tbody tr th {\n",
       "        vertical-align: top;\n",
       "    }\n",
       "\n",
       "    .dataframe thead th {\n",
       "        text-align: right;\n",
       "    }\n",
       "</style>\n",
       "<table border=\"1\" class=\"dataframe\">\n",
       "  <thead>\n",
       "    <tr style=\"text-align: right;\">\n",
       "      <th></th>\n",
       "      <th>prompt</th>\n",
       "      <th>chosen</th>\n",
       "      <th>rejected</th>\n",
       "    </tr>\n",
       "  </thead>\n",
       "  <tbody>\n",
       "    <tr>\n",
       "      <th>0</th>\n",
       "      <td>\\n\\nHuman: 0.002 = 1000 \\n1 = x?\\n\\nAssistant:</td>\n",
       "      <td>To find the value of x, we can set up a propor...</td>\n",
       "      <td>It seems like you are asking for the value of ...</td>\n",
       "    </tr>\n",
       "    <tr>\n",
       "      <th>1</th>\n",
       "      <td>\\n\\nHuman: 0:00\\nwhat's going on guys it's NAM...</td>\n",
       "      <td>Hello! It seems like you're sharing a transcri...</td>\n",
       "      <td>how much time?</td>\n",
       "    </tr>\n",
       "    <tr>\n",
       "      <th>2</th>\n",
       "      <td>\\n\\nHuman: 01011001 01001111 01010101 00100000...</td>\n",
       "      <td>The binary code you provided translates to \"YO...</td>\n",
       "      <td>Hello! How can I assist you today?</td>\n",
       "    </tr>\n",
       "    <tr>\n",
       "      <th>3</th>\n",
       "      <td>\\n\\nHuman: \"012345\", \"001122\", \"ee44aa\", \"abcd...</td>\n",
       "      <td>Sure, I can help you write a function in Go th...</td>\n",
       "      <td>After some research and development, I have cr...</td>\n",
       "    </tr>\n",
       "    <tr>\n",
       "      <th>4</th>\n",
       "      <td>\\n\\nHuman: #01 You are an assistant that helps...</td>\n",
       "      <td>{\\n    \"thoughts\": \"Based on the current traff...</td>\n",
       "      <td>{\\n\"thoughts\": \"I understand, I will follow th...</td>\n",
       "    </tr>\n",
       "  </tbody>\n",
       "</table>\n",
       "</div>"
      ],
      "text/plain": [
       "                                              prompt  \\\n",
       "0    \\n\\nHuman: 0.002 = 1000 \\n1 = x?\\n\\nAssistant:    \n",
       "1  \\n\\nHuman: 0:00\\nwhat's going on guys it's NAM...   \n",
       "2  \\n\\nHuman: 01011001 01001111 01010101 00100000...   \n",
       "3  \\n\\nHuman: \"012345\", \"001122\", \"ee44aa\", \"abcd...   \n",
       "4  \\n\\nHuman: #01 You are an assistant that helps...   \n",
       "\n",
       "                                              chosen  \\\n",
       "0  To find the value of x, we can set up a propor...   \n",
       "1  Hello! It seems like you're sharing a transcri...   \n",
       "2  The binary code you provided translates to \"YO...   \n",
       "3  Sure, I can help you write a function in Go th...   \n",
       "4  {\\n    \"thoughts\": \"Based on the current traff...   \n",
       "\n",
       "                                            rejected  \n",
       "0  It seems like you are asking for the value of ...  \n",
       "1                                     how much time?  \n",
       "2                 Hello! How can I assist you today?  \n",
       "3  After some research and development, I have cr...  \n",
       "4  {\\n\"thoughts\": \"I understand, I will follow th...  "
      ]
     },
     "metadata": {},
     "output_type": "display_data"
    },
    {
     "name": "stdout",
     "output_type": "stream",
     "text": [
      "Length of the dataset:  182954\n"
     ]
    }
   ],
   "source": [
    "# Verify the dataset\n",
    "display(nectar_df.head())\n",
    "print(\"Length of the dataset: \", len(nectar_df))"
   ]
  },
  {
   "cell_type": "code",
   "execution_count": 8,
   "metadata": {},
   "outputs": [],
   "source": [
    "# Take only half of the nectar_df data because it is too large\n",
    "half_nectar_df = nectar_df.sample(frac=0.5, random_state=42)\n",
    "\n",
    "# Split the DataFrame into train and test sets\n",
    "train_nectar_df, test_nectar_df = train_test_split(half_nectar_df, test_size=0.3, random_state=42)"
   ]
  },
  {
   "cell_type": "code",
   "execution_count": 163,
   "metadata": {},
   "outputs": [
    {
     "name": "stdout",
     "output_type": "stream",
     "text": [
      "91477\n",
      "64033\n",
      "27444\n"
     ]
    }
   ],
   "source": [
    "print(len(half_nectar_df))\n",
    "print(len(train_nectar_df))\n",
    "print(len(test_nectar_df))"
   ]
  },
  {
   "cell_type": "code",
   "execution_count": 9,
   "metadata": {},
   "outputs": [],
   "source": [
    "# Save the train and test datasets in a jsonl file\n",
    "train_nectar_df.to_json('../data/nectar_train_dataset.jsonl', orient='records', lines=True)\n",
    "test_nectar_df.to_json('../data/test/nectar_test_dataset.jsonl', orient='records', lines=True)"
   ]
  },
  {
   "cell_type": "markdown",
   "metadata": {},
   "source": [
    "### MMLU MCQ dataset"
   ]
  },
  {
   "cell_type": "code",
   "execution_count": 118,
   "metadata": {},
   "outputs": [
    {
     "name": "stderr",
     "output_type": "stream",
     "text": [
      "Using the latest cached version of the dataset since cais/mmlu couldn't be found on the Hugging Face Hub\n",
      "Found the latest cached dataset configuration 'all' at /Users/iliasmerigh/.cache/huggingface/datasets/cais___mmlu/all/0.0.0/c30699e8356da336a370243923dbaf21066bb9fe (last modified on Thu May 23 18:23:50 2024).\n"
     ]
    }
   ],
   "source": [
    "# Load the dataset from: https://huggingface.co/datasets/cais/mmlu\n",
    "mmlu_dataset = load_dataset(\"cais/mmlu\", 'all')"
   ]
  },
  {
   "cell_type": "code",
   "execution_count": 173,
   "metadata": {},
   "outputs": [
    {
     "data": {
      "text/html": [
       "<div>\n",
       "<style scoped>\n",
       "    .dataframe tbody tr th:only-of-type {\n",
       "        vertical-align: middle;\n",
       "    }\n",
       "\n",
       "    .dataframe tbody tr th {\n",
       "        vertical-align: top;\n",
       "    }\n",
       "\n",
       "    .dataframe thead th {\n",
       "        text-align: right;\n",
       "    }\n",
       "</style>\n",
       "<table border=\"1\" class=\"dataframe\">\n",
       "  <thead>\n",
       "    <tr style=\"text-align: right;\">\n",
       "      <th></th>\n",
       "      <th>question</th>\n",
       "      <th>subject</th>\n",
       "      <th>choices</th>\n",
       "      <th>answer</th>\n",
       "    </tr>\n",
       "  </thead>\n",
       "  <tbody>\n",
       "    <tr>\n",
       "      <th>0</th>\n",
       "      <td>Davis decided to kill Adams. He set out for Ad...</td>\n",
       "      <td></td>\n",
       "      <td>[Adams only., Brooks only., Case only., Adams ...</td>\n",
       "      <td>1</td>\n",
       "    </tr>\n",
       "    <tr>\n",
       "      <th>1</th>\n",
       "      <td>A state statute requires any person licensed t...</td>\n",
       "      <td></td>\n",
       "      <td>[guilty, because this is a public welfare offe...</td>\n",
       "      <td>3</td>\n",
       "    </tr>\n",
       "    <tr>\n",
       "      <th>2</th>\n",
       "      <td>Lender met Borrower on the street, demanded th...</td>\n",
       "      <td></td>\n",
       "      <td>[Yes, because Mann threatened to use deadly fo...</td>\n",
       "      <td>2</td>\n",
       "    </tr>\n",
       "    <tr>\n",
       "      <th>3</th>\n",
       "      <td>Peter sued Don for breach of contract. The cou...</td>\n",
       "      <td></td>\n",
       "      <td>[must permit Don to answer if he had objected ...</td>\n",
       "      <td>1</td>\n",
       "    </tr>\n",
       "    <tr>\n",
       "      <th>4</th>\n",
       "      <td>Ames had painted Bell's house under a contract...</td>\n",
       "      <td></td>\n",
       "      <td>[partial breach of contract only if Ames had p...</td>\n",
       "      <td>2</td>\n",
       "    </tr>\n",
       "  </tbody>\n",
       "</table>\n",
       "</div>"
      ],
      "text/plain": [
       "                                            question subject  \\\n",
       "0  Davis decided to kill Adams. He set out for Ad...           \n",
       "1  A state statute requires any person licensed t...           \n",
       "2  Lender met Borrower on the street, demanded th...           \n",
       "3  Peter sued Don for breach of contract. The cou...           \n",
       "4  Ames had painted Bell's house under a contract...           \n",
       "\n",
       "                                             choices  answer  \n",
       "0  [Adams only., Brooks only., Case only., Adams ...       1  \n",
       "1  [guilty, because this is a public welfare offe...       3  \n",
       "2  [Yes, because Mann threatened to use deadly fo...       2  \n",
       "3  [must permit Don to answer if he had objected ...       1  \n",
       "4  [partial breach of contract only if Ames had p...       2  "
      ]
     },
     "metadata": {},
     "output_type": "display_data"
    },
    {
     "name": "stdout",
     "output_type": "stream",
     "text": [
      "Length of the dataset:  99842\n"
     ]
    }
   ],
   "source": [
    "# Create a pandas dataframe from the dataset\n",
    "mmlu_df = mmlu_dataset['auxiliary_train'].to_pandas()\n",
    "\n",
    "# Get some insights about the dataset\n",
    "display(mmlu_df.head())\n",
    "print(\"Length of the dataset: \", len(mmlu_df))"
   ]
  },
  {
   "cell_type": "code",
   "execution_count": 174,
   "metadata": {},
   "outputs": [],
   "source": [
    "# Map the answers to the corresponding letters\n",
    "mmlu_df['answer'] = mmlu_df['answer'].replace({0: 'A', 1: 'B', 2: 'C', 3: 'D', 4: 'E'})"
   ]
  },
  {
   "cell_type": "code",
   "execution_count": 175,
   "metadata": {},
   "outputs": [],
   "source": [
    "# Sanitize the options column\n",
    "def concatenate_with_separators(strings, separators = [\"\\nA:\", \"\\nB:\", \"\\nC:\", \"\\nD:\", \"\\nE:\"]):\n",
    "    \"\"\"\n",
    "    Concatenate a list of strings with a list of separators.\n",
    "    \n",
    "    Args:\n",
    "    strings: list of strings\n",
    "    separators: list of strings\n",
    "\n",
    "    Returns:\n",
    "    result: string\n",
    "    \"\"\"\n",
    "    # Ensure there is one fewer separator than there are strings, as separators go between strings\n",
    "    if len(separators) < len(strings):\n",
    "        raise ValueError(\"The number of separators must be one less than the number of strings\")\n",
    "    \n",
    "    # Start with empty string\n",
    "    result = \"\"\n",
    "    \n",
    "    # Append each subsequent string with its corresponding separator\n",
    "    for i, string in enumerate(strings, start=1):\n",
    "        result += separators[i - 1] + string\n",
    "    \n",
    "    return result"
   ]
  },
  {
   "cell_type": "code",
   "execution_count": 176,
   "metadata": {},
   "outputs": [],
   "source": [
    "# Create the relevant columns to have the same format as the template\n",
    "mmlu_df['options'] = mmlu_df['choices'].apply(lambda x: concatenate_with_separators(x))\n",
    "mmlu_df['question'] = \"Question: \" + mmlu_df['question'] + \"\\n\\nOptions:\" + mmlu_df['options'] + \"\\nAnswer:\" \n",
    "\n",
    "# Keep only the relevant columns\n",
    "mmlu_df = mmlu_df[['subject', 'question', 'answer']]"
   ]
  },
  {
   "cell_type": "code",
   "execution_count": 177,
   "metadata": {},
   "outputs": [],
   "source": [
    "# Try to fill the subject column with the gpt wrapper given in the Milestone 1\n",
    "gpt_wrapper.api_base = \"http://mnlp-backend-938795011.eu-central-1.elb.amazonaws.com\"\n",
    "gpt_wrapper.api_key = \"769fc7d9-29e5-4864-99cf-59e45abff8eb\""
   ]
  },
  {
   "cell_type": "code",
   "execution_count": 90,
   "metadata": {},
   "outputs": [
    {
     "data": {
      "text/html": [
       "<div>\n",
       "<style scoped>\n",
       "    .dataframe tbody tr th:only-of-type {\n",
       "        vertical-align: middle;\n",
       "    }\n",
       "\n",
       "    .dataframe tbody tr th {\n",
       "        vertical-align: top;\n",
       "    }\n",
       "\n",
       "    .dataframe thead th {\n",
       "        text-align: right;\n",
       "    }\n",
       "</style>\n",
       "<table border=\"1\" class=\"dataframe\">\n",
       "  <thead>\n",
       "    <tr style=\"text-align: right;\">\n",
       "      <th></th>\n",
       "      <th>subject</th>\n",
       "      <th>question</th>\n",
       "      <th>answer</th>\n",
       "    </tr>\n",
       "  </thead>\n",
       "  <tbody>\n",
       "    <tr>\n",
       "      <th>0</th>\n",
       "      <td>jurisprudence</td>\n",
       "      <td>Question: Davis decided to kill Adams. He set ...</td>\n",
       "      <td>B</td>\n",
       "    </tr>\n",
       "    <tr>\n",
       "      <th>1</th>\n",
       "      <td>professional_law</td>\n",
       "      <td>Question: A state statute requires any person ...</td>\n",
       "      <td>D</td>\n",
       "    </tr>\n",
       "    <tr>\n",
       "      <th>2</th>\n",
       "      <td>professional_law</td>\n",
       "      <td>Question: Lender met Borrower on the street, d...</td>\n",
       "      <td>C</td>\n",
       "    </tr>\n",
       "    <tr>\n",
       "      <th>3</th>\n",
       "      <td>jurisprudence</td>\n",
       "      <td>Question: Peter sued Don for breach of contrac...</td>\n",
       "      <td>B</td>\n",
       "    </tr>\n",
       "    <tr>\n",
       "      <th>4</th>\n",
       "      <td>professional_law</td>\n",
       "      <td>Question: Ames had painted Bell's house under ...</td>\n",
       "      <td>C</td>\n",
       "    </tr>\n",
       "    <tr>\n",
       "      <th>5</th>\n",
       "      <td>professional_law</td>\n",
       "      <td>Question: Ames had painted Bell's house under ...</td>\n",
       "      <td>C</td>\n",
       "    </tr>\n",
       "    <tr>\n",
       "      <th>6</th>\n",
       "      <td>professional_law</td>\n",
       "      <td>Question: Ames had painted Bell's house under ...</td>\n",
       "      <td>A</td>\n",
       "    </tr>\n",
       "    <tr>\n",
       "      <th>7</th>\n",
       "      <td>professional_law</td>\n",
       "      <td>Question: The State of Aurora requires license...</td>\n",
       "      <td>A</td>\n",
       "    </tr>\n",
       "    <tr>\n",
       "      <th>8</th>\n",
       "      <td>professional_law</td>\n",
       "      <td>Question: The State of Aurora requires license...</td>\n",
       "      <td>D</td>\n",
       "    </tr>\n",
       "    <tr>\n",
       "      <th>9</th>\n",
       "      <td>professional_law</td>\n",
       "      <td>Question: The State of Aurora requires license...</td>\n",
       "      <td>D</td>\n",
       "    </tr>\n",
       "    <tr>\n",
       "      <th>10</th>\n",
       "      <td>professional_law</td>\n",
       "      <td>Question: The State of Aurora requires license...</td>\n",
       "      <td>C</td>\n",
       "    </tr>\n",
       "    <tr>\n",
       "      <th>11</th>\n",
       "      <td>moral_disputes</td>\n",
       "      <td>Question: John was fired from his job. Too pro...</td>\n",
       "      <td>B</td>\n",
       "    </tr>\n",
       "    <tr>\n",
       "      <th>12</th>\n",
       "      <td>high_school_us_history</td>\n",
       "      <td>Question: Professor Merrill, in a lecture in h...</td>\n",
       "      <td>A</td>\n",
       "    </tr>\n",
       "    <tr>\n",
       "      <th>13</th>\n",
       "      <td>professional_law</td>\n",
       "      <td>Question: Professor Merrill, in a lecture in h...</td>\n",
       "      <td>D</td>\n",
       "    </tr>\n",
       "    <tr>\n",
       "      <th>14</th>\n",
       "      <td>professional_law</td>\n",
       "      <td>Question: Oxnard owned Goldacre, a tract of la...</td>\n",
       "      <td>C</td>\n",
       "    </tr>\n",
       "    <tr>\n",
       "      <th>15</th>\n",
       "      <td>professional_law</td>\n",
       "      <td>Question: Mary Webb, a physician called as a w...</td>\n",
       "      <td>D</td>\n",
       "    </tr>\n",
       "    <tr>\n",
       "      <th>16</th>\n",
       "      <td>professional_law</td>\n",
       "      <td>Question: A leading question is LEAST likely t...</td>\n",
       "      <td>C</td>\n",
       "    </tr>\n",
       "    <tr>\n",
       "      <th>17</th>\n",
       "      <td>professional_law</td>\n",
       "      <td>Question: Roofer entered into a written contra...</td>\n",
       "      <td>B</td>\n",
       "    </tr>\n",
       "    <tr>\n",
       "      <th>18</th>\n",
       "      <td>professional_law</td>\n",
       "      <td>Question: Homer and Purcell entered into a val...</td>\n",
       "      <td>B</td>\n",
       "    </tr>\n",
       "    <tr>\n",
       "      <th>19</th>\n",
       "      <td>professional_law</td>\n",
       "      <td>Question: Albert engaged Bertha, an inexperien...</td>\n",
       "      <td>D</td>\n",
       "    </tr>\n",
       "  </tbody>\n",
       "</table>\n",
       "</div>"
      ],
      "text/plain": [
       "                   subject                                           question  \\\n",
       "0            jurisprudence  Question: Davis decided to kill Adams. He set ...   \n",
       "1         professional_law  Question: A state statute requires any person ...   \n",
       "2         professional_law  Question: Lender met Borrower on the street, d...   \n",
       "3            jurisprudence  Question: Peter sued Don for breach of contrac...   \n",
       "4         professional_law  Question: Ames had painted Bell's house under ...   \n",
       "5         professional_law  Question: Ames had painted Bell's house under ...   \n",
       "6         professional_law  Question: Ames had painted Bell's house under ...   \n",
       "7         professional_law  Question: The State of Aurora requires license...   \n",
       "8         professional_law  Question: The State of Aurora requires license...   \n",
       "9         professional_law  Question: The State of Aurora requires license...   \n",
       "10        professional_law  Question: The State of Aurora requires license...   \n",
       "11          moral_disputes  Question: John was fired from his job. Too pro...   \n",
       "12  high_school_us_history  Question: Professor Merrill, in a lecture in h...   \n",
       "13        professional_law  Question: Professor Merrill, in a lecture in h...   \n",
       "14        professional_law  Question: Oxnard owned Goldacre, a tract of la...   \n",
       "15        professional_law  Question: Mary Webb, a physician called as a w...   \n",
       "16        professional_law  Question: A leading question is LEAST likely t...   \n",
       "17        professional_law  Question: Roofer entered into a written contra...   \n",
       "18        professional_law  Question: Homer and Purcell entered into a val...   \n",
       "19        professional_law  Question: Albert engaged Bertha, an inexperien...   \n",
       "\n",
       "   answer  \n",
       "0       B  \n",
       "1       D  \n",
       "2       C  \n",
       "3       B  \n",
       "4       C  \n",
       "5       C  \n",
       "6       A  \n",
       "7       A  \n",
       "8       D  \n",
       "9       D  \n",
       "10      C  \n",
       "11      B  \n",
       "12      A  \n",
       "13      D  \n",
       "14      C  \n",
       "15      D  \n",
       "16      C  \n",
       "17      B  \n",
       "18      B  \n",
       "19      D  "
      ]
     },
     "metadata": {},
     "output_type": "display_data"
    }
   ],
   "source": [
    "# According to the documentation of the dataset, the categories are the following\n",
    "categories = ['abstract_algebra', 'anatomy', 'astronomy', 'business_ethics', 'clinical_knowledge', 'college_biology', 'college_chemistry', 'college_computer_science', 'college_mathematics', 'college_medicine', 'college_physics', 'computer_security', 'conceptual_physics', 'econometrics', 'electrical_engineering', 'elementary_mathematics', 'formal_logic', 'global_facts', 'high_school_biology', 'high_school_chemistry', 'high_school_computer_science', 'high_school_european_history', 'high_school_geography', 'high_school_government_and_politics', 'high_school_macroeconomics', 'high_school_mathematics', 'high_school_microeconomics', 'high_school_physics', 'high_school_psychology', 'high_school_statistics', 'high_school_us_history', 'high_school_world_history', 'human_aging', 'human_sexuality', 'international_law', 'jurisprudence', 'logical_fallacies', 'machine_learning', 'management', 'marketing', 'medical_genetics', 'miscellaneous', 'moral_disputes', 'moral_scenarios', 'nutrition', 'philosophy', 'prehistory', 'professional_accounting', 'professional_law', 'professional_medicine', 'professional_psychology', 'public_relations', 'security_studies', 'sociology', 'us_foreign_policy', 'virology', 'world_religions']\n",
    "\n",
    "# Fill the subject column on a sample of 20 rows to see if the results are coherent\n",
    "for i, row in mmlu_df.head(20).iterrows():\n",
    "    chat = Chat.create(\"mmlu\" + str(i))\n",
    "    question = row['question']\n",
    "    category = chat.ask(question, instruction= \"Which category best describes the subject of the question? Choose one of the following:\" + \", \".join(categories))\n",
    "    mmlu_df.at[i, 'subject'] = category\n",
    "\n",
    "display(mmlu_df.head(20))"
   ]
  },
  {
   "cell_type": "markdown",
   "metadata": {},
   "source": [
    "The results are coherent, but the process is too time-consuming and resource-intensive. Therefore, we will ignore the \"subject\" feature for this dataset."
   ]
  },
  {
   "cell_type": "code",
   "execution_count": 178,
   "metadata": {},
   "outputs": [],
   "source": [
    "# Reset the subject column\n",
    "mmlu_df['subject'] = ''"
   ]
  },
  {
   "cell_type": "code",
   "execution_count": 179,
   "metadata": {},
   "outputs": [
    {
     "data": {
      "text/html": [
       "<div>\n",
       "<style scoped>\n",
       "    .dataframe tbody tr th:only-of-type {\n",
       "        vertical-align: middle;\n",
       "    }\n",
       "\n",
       "    .dataframe tbody tr th {\n",
       "        vertical-align: top;\n",
       "    }\n",
       "\n",
       "    .dataframe thead th {\n",
       "        text-align: right;\n",
       "    }\n",
       "</style>\n",
       "<table border=\"1\" class=\"dataframe\">\n",
       "  <thead>\n",
       "    <tr style=\"text-align: right;\">\n",
       "      <th></th>\n",
       "      <th>subject</th>\n",
       "      <th>question</th>\n",
       "      <th>answer</th>\n",
       "    </tr>\n",
       "  </thead>\n",
       "  <tbody>\n",
       "    <tr>\n",
       "      <th>0</th>\n",
       "      <td></td>\n",
       "      <td>Question: Davis decided to kill Adams. He set ...</td>\n",
       "      <td>B</td>\n",
       "    </tr>\n",
       "    <tr>\n",
       "      <th>1</th>\n",
       "      <td></td>\n",
       "      <td>Question: A state statute requires any person ...</td>\n",
       "      <td>D</td>\n",
       "    </tr>\n",
       "    <tr>\n",
       "      <th>2</th>\n",
       "      <td></td>\n",
       "      <td>Question: Lender met Borrower on the street, d...</td>\n",
       "      <td>C</td>\n",
       "    </tr>\n",
       "    <tr>\n",
       "      <th>3</th>\n",
       "      <td></td>\n",
       "      <td>Question: Peter sued Don for breach of contrac...</td>\n",
       "      <td>B</td>\n",
       "    </tr>\n",
       "    <tr>\n",
       "      <th>4</th>\n",
       "      <td></td>\n",
       "      <td>Question: Ames had painted Bell's house under ...</td>\n",
       "      <td>C</td>\n",
       "    </tr>\n",
       "  </tbody>\n",
       "</table>\n",
       "</div>"
      ],
      "text/plain": [
       "  subject                                           question answer\n",
       "0          Question: Davis decided to kill Adams. He set ...      B\n",
       "1          Question: A state statute requires any person ...      D\n",
       "2          Question: Lender met Borrower on the street, d...      C\n",
       "3          Question: Peter sued Don for breach of contrac...      B\n",
       "4          Question: Ames had painted Bell's house under ...      C"
      ]
     },
     "metadata": {},
     "output_type": "display_data"
    },
    {
     "name": "stdout",
     "output_type": "stream",
     "text": [
      "Length of the dataset:  99842\n"
     ]
    }
   ],
   "source": [
    "# Verify the dataset\n",
    "display(mmlu_df.head())\n",
    "print(\"Length of the dataset: \", len(mmlu_df))"
   ]
  },
  {
   "cell_type": "markdown",
   "metadata": {},
   "source": [
    "The output format is similar to the template."
   ]
  },
  {
   "cell_type": "code",
   "execution_count": 180,
   "metadata": {},
   "outputs": [],
   "source": [
    "# Split the DataFrame into train and test sets\n",
    "train_mmlu_df, test_mmlu_df = train_test_split(mmlu_df, test_size=0.15, random_state=42)"
   ]
  },
  {
   "cell_type": "code",
   "execution_count": 181,
   "metadata": {},
   "outputs": [],
   "source": [
    "# Save the train dataset in a jsonl file\n",
    "train_mmlu_df.to_json('../data/mcq_mmlu_dataset.jsonl', orient='records', lines=True)"
   ]
  },
  {
   "cell_type": "markdown",
   "metadata": {},
   "source": [
    "### MathQA MCQ dataset"
   ]
  },
  {
   "cell_type": "code",
   "execution_count": 128,
   "metadata": {},
   "outputs": [
    {
     "name": "stderr",
     "output_type": "stream",
     "text": [
      "/Users/iliasmerigh/opt/miniconda3/lib/python3.9/site-packages/datasets/load.py:1454: FutureWarning: The repository for math_qa contains custom code which must be executed to correctly load the dataset. You can inspect the repository content at https://hf.co/datasets/math_qa\n",
      "You can avoid this message in future by passing the argument `trust_remote_code=True`.\n",
      "Passing `trust_remote_code=True` will be mandatory to load this dataset from the next major release of `datasets`.\n",
      "  warnings.warn(\n"
     ]
    }
   ],
   "source": [
    "# Load the dataset from: https://huggingface.co/datasets/allenai/math_qa\n",
    "mathqa_dataset = load_dataset(\"math_qa\")"
   ]
  },
  {
   "cell_type": "code",
   "execution_count": 182,
   "metadata": {},
   "outputs": [
    {
     "data": {
      "text/html": [
       "<div>\n",
       "<style scoped>\n",
       "    .dataframe tbody tr th:only-of-type {\n",
       "        vertical-align: middle;\n",
       "    }\n",
       "\n",
       "    .dataframe tbody tr th {\n",
       "        vertical-align: top;\n",
       "    }\n",
       "\n",
       "    .dataframe thead th {\n",
       "        text-align: right;\n",
       "    }\n",
       "</style>\n",
       "<table border=\"1\" class=\"dataframe\">\n",
       "  <thead>\n",
       "    <tr style=\"text-align: right;\">\n",
       "      <th></th>\n",
       "      <th>Problem</th>\n",
       "      <th>Rationale</th>\n",
       "      <th>options</th>\n",
       "      <th>correct</th>\n",
       "      <th>annotated_formula</th>\n",
       "      <th>linear_formula</th>\n",
       "      <th>category</th>\n",
       "    </tr>\n",
       "  </thead>\n",
       "  <tbody>\n",
       "    <tr>\n",
       "      <th>0</th>\n",
       "      <td>the banker ' s gain of a certain sum due 3 yea...</td>\n",
       "      <td>\"explanation : t = 3 years r = 10 % td = ( bg ...</td>\n",
       "      <td>a ) rs . 400 , b ) rs . 300 , c ) rs . 500 , d...</td>\n",
       "      <td>a</td>\n",
       "      <td>divide(multiply(const_100, divide(multiply(36,...</td>\n",
       "      <td>multiply(n2,const_100)|multiply(n0,n1)|divide(...</td>\n",
       "      <td>gain</td>\n",
       "    </tr>\n",
       "    <tr>\n",
       "      <th>1</th>\n",
       "      <td>average age of students of an adult school is ...</td>\n",
       "      <td>\"explanation : let the original no . of studen...</td>\n",
       "      <td>a ) 1200 , b ) 120 , c ) 360 , d ) 240 , e ) n...</td>\n",
       "      <td>d</td>\n",
       "      <td>multiply(divide(subtract(multiply(add(32, 4), ...</td>\n",
       "      <td>add(n2,n3)|multiply(n1,n2)|multiply(n1,#0)|sub...</td>\n",
       "      <td>general</td>\n",
       "    </tr>\n",
       "    <tr>\n",
       "      <th>2</th>\n",
       "      <td>sophia finished 2 / 3 of a book . she calculat...</td>\n",
       "      <td>let xx be the total number of pages in the boo...</td>\n",
       "      <td>a ) 229 , b ) 270 , c ) 877 , d ) 266 , e ) 281</td>\n",
       "      <td>b</td>\n",
       "      <td>divide(90, subtract(const_1, divide(2, 3)))</td>\n",
       "      <td>divide(n0,n1)|subtract(const_1,#0)|divide(n2,#1)</td>\n",
       "      <td>general</td>\n",
       "    </tr>\n",
       "    <tr>\n",
       "      <th>3</th>\n",
       "      <td>120 is what percent of 50 ?</td>\n",
       "      <td>\"50 * x = 120 - - &gt; x = 2.4 - - &gt; 2.4 expresse...</td>\n",
       "      <td>a ) 5 % , b ) 240 % , c ) 50 % , d ) 2 % , e )...</td>\n",
       "      <td>b</td>\n",
       "      <td>multiply(divide(120, 50), const_100)</td>\n",
       "      <td>divide(n0,n1)|multiply(#0,const_100)|</td>\n",
       "      <td>gain</td>\n",
       "    </tr>\n",
       "    <tr>\n",
       "      <th>4</th>\n",
       "      <td>there are 10 girls and 20 boys in a classroom ...</td>\n",
       "      <td>if girls is 10 and boys is 20 , then 10 / 20 ....</td>\n",
       "      <td>a ) 1 / 2 , b ) 1 / 3 , c ) 1 / 5 , d ) 10 / 3...</td>\n",
       "      <td>a</td>\n",
       "      <td>divide(10, 20)</td>\n",
       "      <td>divide(n0,n1)</td>\n",
       "      <td>other</td>\n",
       "    </tr>\n",
       "  </tbody>\n",
       "</table>\n",
       "</div>"
      ],
      "text/plain": [
       "                                             Problem  \\\n",
       "0  the banker ' s gain of a certain sum due 3 yea...   \n",
       "1  average age of students of an adult school is ...   \n",
       "2  sophia finished 2 / 3 of a book . she calculat...   \n",
       "3                        120 is what percent of 50 ?   \n",
       "4  there are 10 girls and 20 boys in a classroom ...   \n",
       "\n",
       "                                           Rationale  \\\n",
       "0  \"explanation : t = 3 years r = 10 % td = ( bg ...   \n",
       "1  \"explanation : let the original no . of studen...   \n",
       "2  let xx be the total number of pages in the boo...   \n",
       "3  \"50 * x = 120 - - > x = 2.4 - - > 2.4 expresse...   \n",
       "4  if girls is 10 and boys is 20 , then 10 / 20 ....   \n",
       "\n",
       "                                             options correct  \\\n",
       "0  a ) rs . 400 , b ) rs . 300 , c ) rs . 500 , d...       a   \n",
       "1  a ) 1200 , b ) 120 , c ) 360 , d ) 240 , e ) n...       d   \n",
       "2    a ) 229 , b ) 270 , c ) 877 , d ) 266 , e ) 281       b   \n",
       "3  a ) 5 % , b ) 240 % , c ) 50 % , d ) 2 % , e )...       b   \n",
       "4  a ) 1 / 2 , b ) 1 / 3 , c ) 1 / 5 , d ) 10 / 3...       a   \n",
       "\n",
       "                                   annotated_formula  \\\n",
       "0  divide(multiply(const_100, divide(multiply(36,...   \n",
       "1  multiply(divide(subtract(multiply(add(32, 4), ...   \n",
       "2        divide(90, subtract(const_1, divide(2, 3)))   \n",
       "3               multiply(divide(120, 50), const_100)   \n",
       "4                                     divide(10, 20)   \n",
       "\n",
       "                                      linear_formula category  \n",
       "0  multiply(n2,const_100)|multiply(n0,n1)|divide(...     gain  \n",
       "1  add(n2,n3)|multiply(n1,n2)|multiply(n1,#0)|sub...  general  \n",
       "2   divide(n0,n1)|subtract(const_1,#0)|divide(n2,#1)  general  \n",
       "3              divide(n0,n1)|multiply(#0,const_100)|     gain  \n",
       "4                                      divide(n0,n1)    other  "
      ]
     },
     "metadata": {},
     "output_type": "display_data"
    },
    {
     "name": "stdout",
     "output_type": "stream",
     "text": [
      "Length of the dataset:  29837\n"
     ]
    }
   ],
   "source": [
    "# Create a pandas dataframe from the dataset\n",
    "mathqa_df = mathqa_dataset['train'].to_pandas()\n",
    "\n",
    "# Get some insights about the dataset\n",
    "display(mathqa_df.head())\n",
    "print(\"Length of the dataset: \", len(mathqa_df))"
   ]
  },
  {
   "cell_type": "code",
   "execution_count": 183,
   "metadata": {},
   "outputs": [],
   "source": [
    "# Upper case the answer column to fit the template\n",
    "mathqa_df['answer'] = mathqa_df['correct'].str.upper()\n",
    "\n",
    "# Sanitize the options column to fit the answer column\n",
    "mathqa_df['options'] = mathqa_df['options'].str.replace(\"a ) \", \"\\nA:\", regex=False)\n",
    "mathqa_df['options'] = mathqa_df['options'].str.replace(\" , b ) \", \"\\nB:\", regex=False)\n",
    "mathqa_df['options'] = mathqa_df['options'].str.replace(\" , c ) \", \"\\nC:\", regex=False)\n",
    "mathqa_df['options'] = mathqa_df['options'].str.replace(\" , d ) \", \"\\nD:\", regex=False)\n",
    "mathqa_df['options'] = mathqa_df['options'].str.replace(\" , e ) \", \"\\nE:\", regex=False)"
   ]
  },
  {
   "cell_type": "code",
   "execution_count": 184,
   "metadata": {},
   "outputs": [
    {
     "name": "stdout",
     "output_type": "stream",
     "text": [
      "general        13273\n",
      "physics         7063\n",
      "gain            5120\n",
      "geometry        2117\n",
      "other           1814\n",
      "probability      450\n",
      "Name: category, dtype: int64\n"
     ]
    }
   ],
   "source": [
    "# Get insights about the categories\n",
    "print(mathqa_df['category'].value_counts())"
   ]
  },
  {
   "cell_type": "code",
   "execution_count": 185,
   "metadata": {},
   "outputs": [],
   "source": [
    "# Map the categories into more meaningful names\n",
    "category_mapping = {'gain': 'mathematics_gain', 'general': 'mathematics_general', 'other': 'mathematics_other'}\n",
    "mathqa_df['category'] = mathqa_df['category'].map(category_mapping)"
   ]
  },
  {
   "cell_type": "code",
   "execution_count": 186,
   "metadata": {},
   "outputs": [],
   "source": [
    "# Create the relevant columns to have the same format as the template\n",
    "mathqa_df['question'] = \"Question: \" + mathqa_df['Problem'] + \"\\n\\nOptions:\" + mathqa_df['options'] + \"\\nAnswer:\" \n",
    "mathqa_df['subject'] = mathqa_df['category']\n",
    "\n",
    "# Keep only the relevant columns\n",
    "mathqa_df = mathqa_df[['subject', 'question', 'answer']]"
   ]
  },
  {
   "cell_type": "code",
   "execution_count": 187,
   "metadata": {},
   "outputs": [
    {
     "data": {
      "text/html": [
       "<div>\n",
       "<style scoped>\n",
       "    .dataframe tbody tr th:only-of-type {\n",
       "        vertical-align: middle;\n",
       "    }\n",
       "\n",
       "    .dataframe tbody tr th {\n",
       "        vertical-align: top;\n",
       "    }\n",
       "\n",
       "    .dataframe thead th {\n",
       "        text-align: right;\n",
       "    }\n",
       "</style>\n",
       "<table border=\"1\" class=\"dataframe\">\n",
       "  <thead>\n",
       "    <tr style=\"text-align: right;\">\n",
       "      <th></th>\n",
       "      <th>subject</th>\n",
       "      <th>question</th>\n",
       "      <th>answer</th>\n",
       "    </tr>\n",
       "  </thead>\n",
       "  <tbody>\n",
       "    <tr>\n",
       "      <th>0</th>\n",
       "      <td>mathematics_gain</td>\n",
       "      <td>Question: the banker ' s gain of a certain sum...</td>\n",
       "      <td>A</td>\n",
       "    </tr>\n",
       "    <tr>\n",
       "      <th>1</th>\n",
       "      <td>mathematics_general</td>\n",
       "      <td>Question: average age of students of an adult ...</td>\n",
       "      <td>D</td>\n",
       "    </tr>\n",
       "    <tr>\n",
       "      <th>2</th>\n",
       "      <td>mathematics_general</td>\n",
       "      <td>Question: sophia finished 2 / 3 of a book . sh...</td>\n",
       "      <td>B</td>\n",
       "    </tr>\n",
       "    <tr>\n",
       "      <th>3</th>\n",
       "      <td>mathematics_gain</td>\n",
       "      <td>Question: 120 is what percent of 50 ?\\n\\nOptio...</td>\n",
       "      <td>B</td>\n",
       "    </tr>\n",
       "    <tr>\n",
       "      <th>4</th>\n",
       "      <td>mathematics_other</td>\n",
       "      <td>Question: there are 10 girls and 20 boys in a ...</td>\n",
       "      <td>A</td>\n",
       "    </tr>\n",
       "  </tbody>\n",
       "</table>\n",
       "</div>"
      ],
      "text/plain": [
       "               subject                                           question  \\\n",
       "0     mathematics_gain  Question: the banker ' s gain of a certain sum...   \n",
       "1  mathematics_general  Question: average age of students of an adult ...   \n",
       "2  mathematics_general  Question: sophia finished 2 / 3 of a book . sh...   \n",
       "3     mathematics_gain  Question: 120 is what percent of 50 ?\\n\\nOptio...   \n",
       "4    mathematics_other  Question: there are 10 girls and 20 boys in a ...   \n",
       "\n",
       "  answer  \n",
       "0      A  \n",
       "1      D  \n",
       "2      B  \n",
       "3      B  \n",
       "4      A  "
      ]
     },
     "metadata": {},
     "output_type": "display_data"
    },
    {
     "name": "stdout",
     "output_type": "stream",
     "text": [
      "Length of the dataset:  29837\n"
     ]
    }
   ],
   "source": [
    "# Verify the dataset\n",
    "display(mathqa_df.head())\n",
    "print(\"Length of the dataset: \", len(mathqa_df))"
   ]
  },
  {
   "cell_type": "markdown",
   "metadata": {},
   "source": [
    "The output format is similar to the template."
   ]
  },
  {
   "cell_type": "code",
   "execution_count": 188,
   "metadata": {},
   "outputs": [],
   "source": [
    "# Split the DataFrame into train and test sets\n",
    "train_mathqa_df, test_mathqa_df = train_test_split(mathqa_df, test_size=0.15, random_state=42)"
   ]
  },
  {
   "cell_type": "code",
   "execution_count": 189,
   "metadata": {},
   "outputs": [],
   "source": [
    "# Save the train dataset in a jsonl file\n",
    "train_mathqa_df.to_json('../data/mcq_mathqa_dataset.jsonl', orient='records', lines=True)"
   ]
  },
  {
   "cell_type": "markdown",
   "metadata": {},
   "source": [
    "### Aquarat MCQ dataset"
   ]
  },
  {
   "cell_type": "code",
   "execution_count": 137,
   "metadata": {},
   "outputs": [],
   "source": [
    "# Load the dataset from: https://huggingface.co/datasets/deepmind/aqua_rat\n",
    "aquarat_dataset = load_dataset(\"deepmind/aqua_rat\")"
   ]
  },
  {
   "cell_type": "code",
   "execution_count": 190,
   "metadata": {},
   "outputs": [
    {
     "data": {
      "text/html": [
       "<div>\n",
       "<style scoped>\n",
       "    .dataframe tbody tr th:only-of-type {\n",
       "        vertical-align: middle;\n",
       "    }\n",
       "\n",
       "    .dataframe tbody tr th {\n",
       "        vertical-align: top;\n",
       "    }\n",
       "\n",
       "    .dataframe thead th {\n",
       "        text-align: right;\n",
       "    }\n",
       "</style>\n",
       "<table border=\"1\" class=\"dataframe\">\n",
       "  <thead>\n",
       "    <tr style=\"text-align: right;\">\n",
       "      <th></th>\n",
       "      <th>question</th>\n",
       "      <th>options</th>\n",
       "      <th>rationale</th>\n",
       "      <th>correct</th>\n",
       "    </tr>\n",
       "  </thead>\n",
       "  <tbody>\n",
       "    <tr>\n",
       "      <th>0</th>\n",
       "      <td>Two friends plan to walk along a 43-km trail, ...</td>\n",
       "      <td>[A)21, B)21.5, C)22, D)22.5, E)23]</td>\n",
       "      <td>If Q complete x kilometers, then P completes 1...</td>\n",
       "      <td>E</td>\n",
       "    </tr>\n",
       "    <tr>\n",
       "      <th>1</th>\n",
       "      <td>In the coordinate plane, points (x, 1) and (5,...</td>\n",
       "      <td>[A)4 and 1, B)1 and 5, C)5 and 1, D)3 and 5, E...</td>\n",
       "      <td>Line k passes through the origin and has slope...</td>\n",
       "      <td>C</td>\n",
       "    </tr>\n",
       "    <tr>\n",
       "      <th>2</th>\n",
       "      <td>For all numbers p and q, the operation @ is de...</td>\n",
       "      <td>[A)II, B)I and II, C)I and III, D)II and III, ...</td>\n",
       "      <td>p@q = p^2 - pq=p(p-q).... so p@q will be zero ...</td>\n",
       "      <td>B</td>\n",
       "    </tr>\n",
       "    <tr>\n",
       "      <th>3</th>\n",
       "      <td>Carl is facing very difficult financial times ...</td>\n",
       "      <td>[A)$1600, B)$2000, C)$2150, D)$2500, E)$12000]</td>\n",
       "      <td>Usually, you are given the annual rate of inte...</td>\n",
       "      <td>A</td>\n",
       "    </tr>\n",
       "    <tr>\n",
       "      <th>4</th>\n",
       "      <td>The speed at which a man can row a boat in sti...</td>\n",
       "      <td>[A)18 seconds, B)27 seconds, C)26 seconds, D)1...</td>\n",
       "      <td>Speed of the boat downstream = 25 +11\\n= 36 km...</td>\n",
       "      <td>E</td>\n",
       "    </tr>\n",
       "  </tbody>\n",
       "</table>\n",
       "</div>"
      ],
      "text/plain": [
       "                                            question  \\\n",
       "0  Two friends plan to walk along a 43-km trail, ...   \n",
       "1  In the coordinate plane, points (x, 1) and (5,...   \n",
       "2  For all numbers p and q, the operation @ is de...   \n",
       "3  Carl is facing very difficult financial times ...   \n",
       "4  The speed at which a man can row a boat in sti...   \n",
       "\n",
       "                                             options  \\\n",
       "0                 [A)21, B)21.5, C)22, D)22.5, E)23]   \n",
       "1  [A)4 and 1, B)1 and 5, C)5 and 1, D)3 and 5, E...   \n",
       "2  [A)II, B)I and II, C)I and III, D)II and III, ...   \n",
       "3     [A)$1600, B)$2000, C)$2150, D)$2500, E)$12000]   \n",
       "4  [A)18 seconds, B)27 seconds, C)26 seconds, D)1...   \n",
       "\n",
       "                                           rationale correct  \n",
       "0  If Q complete x kilometers, then P completes 1...       E  \n",
       "1  Line k passes through the origin and has slope...       C  \n",
       "2  p@q = p^2 - pq=p(p-q).... so p@q will be zero ...       B  \n",
       "3  Usually, you are given the annual rate of inte...       A  \n",
       "4  Speed of the boat downstream = 25 +11\\n= 36 km...       E  "
      ]
     },
     "metadata": {},
     "output_type": "display_data"
    },
    {
     "name": "stdout",
     "output_type": "stream",
     "text": [
      "Length of the dataset:  97467\n"
     ]
    }
   ],
   "source": [
    "# Create a pandas dataframe from the dataset\n",
    "aquarat_df = aquarat_dataset['train'].to_pandas()\n",
    "\n",
    "# Get some insights about the dataset\n",
    "display(aquarat_df.head())\n",
    "print(\"Length of the dataset: \", len(aquarat_df))"
   ]
  },
  {
   "cell_type": "code",
   "execution_count": 191,
   "metadata": {},
   "outputs": [],
   "source": [
    "# Sanitize the options column\n",
    "aquarat_df[\"options\"] = aquarat_df[\"options\"].apply(lambda x: ''.join(np.array(x)))\n",
    "\n",
    "aquarat_df['options'] = aquarat_df['options'].str.replace(\"A)\", \"\\nA:\", regex=False)\n",
    "aquarat_df['options'] = aquarat_df['options'].str.replace(\"B)\", \"\\nB:\", regex=False)\n",
    "aquarat_df['options'] = aquarat_df['options'].str.replace(\"C)\", \"\\nC:\", regex=False)\n",
    "aquarat_df['options'] = aquarat_df['options'].str.replace(\"D)\", \"\\nD:\", regex=False)\n",
    "aquarat_df['options'] = aquarat_df['options'].str.replace(\"E)\", \"\\nE:\", regex=False)"
   ]
  },
  {
   "cell_type": "code",
   "execution_count": 192,
   "metadata": {},
   "outputs": [],
   "source": [
    "# Create the relevant columns to have the same format as the template\n",
    "aquarat_df['question'] = \"Question: \" + aquarat_df['question'] + \"\\n\\nOptions:\" + aquarat_df['options'] + \"\\nAnswer:\" \n",
    "aquarat_df = aquarat_df.rename(columns={'correct': 'answer'})\n",
    "\n",
    "# The dataset is all about algebra\n",
    "aquarat_df['subject'] = 'algebra'\n",
    "\n",
    "# Keep only the relevant columns\n",
    "aquarat_df = aquarat_df[['subject', 'question', 'answer']]"
   ]
  },
  {
   "cell_type": "code",
   "execution_count": 193,
   "metadata": {},
   "outputs": [
    {
     "data": {
      "text/html": [
       "<div>\n",
       "<style scoped>\n",
       "    .dataframe tbody tr th:only-of-type {\n",
       "        vertical-align: middle;\n",
       "    }\n",
       "\n",
       "    .dataframe tbody tr th {\n",
       "        vertical-align: top;\n",
       "    }\n",
       "\n",
       "    .dataframe thead th {\n",
       "        text-align: right;\n",
       "    }\n",
       "</style>\n",
       "<table border=\"1\" class=\"dataframe\">\n",
       "  <thead>\n",
       "    <tr style=\"text-align: right;\">\n",
       "      <th></th>\n",
       "      <th>subject</th>\n",
       "      <th>question</th>\n",
       "      <th>answer</th>\n",
       "    </tr>\n",
       "  </thead>\n",
       "  <tbody>\n",
       "    <tr>\n",
       "      <th>0</th>\n",
       "      <td>algebra</td>\n",
       "      <td>Question: Two friends plan to walk along a 43-...</td>\n",
       "      <td>E</td>\n",
       "    </tr>\n",
       "    <tr>\n",
       "      <th>1</th>\n",
       "      <td>algebra</td>\n",
       "      <td>Question: In the coordinate plane, points (x, ...</td>\n",
       "      <td>C</td>\n",
       "    </tr>\n",
       "    <tr>\n",
       "      <th>2</th>\n",
       "      <td>algebra</td>\n",
       "      <td>Question: For all numbers p and q, the operati...</td>\n",
       "      <td>B</td>\n",
       "    </tr>\n",
       "    <tr>\n",
       "      <th>3</th>\n",
       "      <td>algebra</td>\n",
       "      <td>Question: Carl is facing very difficult financ...</td>\n",
       "      <td>A</td>\n",
       "    </tr>\n",
       "    <tr>\n",
       "      <th>4</th>\n",
       "      <td>algebra</td>\n",
       "      <td>Question: The speed at which a man can row a b...</td>\n",
       "      <td>E</td>\n",
       "    </tr>\n",
       "  </tbody>\n",
       "</table>\n",
       "</div>"
      ],
      "text/plain": [
       "   subject                                           question answer\n",
       "0  algebra  Question: Two friends plan to walk along a 43-...      E\n",
       "1  algebra  Question: In the coordinate plane, points (x, ...      C\n",
       "2  algebra  Question: For all numbers p and q, the operati...      B\n",
       "3  algebra  Question: Carl is facing very difficult financ...      A\n",
       "4  algebra  Question: The speed at which a man can row a b...      E"
      ]
     },
     "metadata": {},
     "output_type": "display_data"
    },
    {
     "name": "stdout",
     "output_type": "stream",
     "text": [
      "Length of the dataset:  97467\n"
     ]
    }
   ],
   "source": [
    "# Verify the dataset\n",
    "display(aquarat_df.head())\n",
    "print(\"Length of the dataset: \", len(aquarat_df))"
   ]
  },
  {
   "cell_type": "markdown",
   "metadata": {},
   "source": [
    "The output format is similar to the template."
   ]
  },
  {
   "cell_type": "code",
   "execution_count": 194,
   "metadata": {},
   "outputs": [],
   "source": [
    "# Split the DataFrame into train and test sets\n",
    "train_aquarat_df, test_aquarat_df = train_test_split(aquarat_df, test_size=0.15, random_state=42)"
   ]
  },
  {
   "cell_type": "code",
   "execution_count": 195,
   "metadata": {},
   "outputs": [],
   "source": [
    "# Save the train dataset in a jsonl file\n",
    "train_aquarat_df.to_json('../data/mcq_aquarat_dataset.jsonl', orient='records', lines=True)"
   ]
  },
  {
   "cell_type": "markdown",
   "metadata": {},
   "source": [
    "### Test MCQ dataset"
   ]
  },
  {
   "cell_type": "code",
   "execution_count": 196,
   "metadata": {},
   "outputs": [],
   "source": [
    "# Concatenate the dataframes\n",
    "test_mcq_df = pd.concat([test_mmlu_df, test_mathqa_df, test_aquarat_df])\n",
    "\n",
    "# Reset the index of the concatenated dataframe\n",
    "test_mcq_df.reset_index(drop=True, inplace=True)"
   ]
  },
  {
   "cell_type": "code",
   "execution_count": 197,
   "metadata": {},
   "outputs": [],
   "source": [
    "# Save the dataset in a jsonl file\n",
    "test_mcq_df.to_json('../data/test/mcq_test_dataset.jsonl', orient='records', lines=True)"
   ]
  },
  {
   "cell_type": "markdown",
   "metadata": {},
   "source": [
    "# Post-processing\n"
   ]
  },
  {
   "cell_type": "code",
   "execution_count": 198,
   "metadata": {},
   "outputs": [],
   "source": [
    "def check_condition(condition):\n",
    "    \"\"\"\n",
    "    Check if a condition is True or False and return the corresponding emoji.\n",
    "    \n",
    "    Args:\n",
    "    condition: boolean\n",
    "\n",
    "    Returns:\n",
    "    emoji: string\n",
    "    \"\"\"\n",
    "    if condition:\n",
    "        return \"✅\"\n",
    "    else:\n",
    "        return \"❌\""
   ]
  },
  {
   "cell_type": "markdown",
   "metadata": {},
   "source": [
    "### DPO datasets checks"
   ]
  },
  {
   "cell_type": "code",
   "execution_count": 199,
   "metadata": {},
   "outputs": [],
   "source": [
    "# Load the generated JSONL file\n",
    "collaborative_df = pd.read_json('../data/collaborative_dataset.jsonl', lines=True)\n",
    "argilla_df = pd.read_json('../data/argilla_dataset.jsonl', lines=True)\n",
    "intel_df = pd.read_json('../data/intel_dataset.jsonl', lines=True)\n",
    "nectar_df = pd.read_json('../data/nectar_train_dataset.jsonl', lines=True)\n",
    "\n",
    "test_df = pd.read_json('../data/test/nectar_test_dataset.jsonl', lines=True)"
   ]
  },
  {
   "cell_type": "code",
   "execution_count": 200,
   "metadata": {},
   "outputs": [
    {
     "name": "stdout",
     "output_type": "stream",
     "text": [
      "Length of collaborative_dataset.jsonl: 26738\n",
      "Length of argilla_dataset.jsonl: 63619\n",
      "Length of intel_dataset.jsonl: 12859\n",
      "Length of nectar_dataset.jsonl: 64033\n",
      "\n",
      "Total training length: 167249\n",
      "Total test length: 27444\n",
      "Ratio of test data: 14.10%\n"
     ]
    }
   ],
   "source": [
    "# Calculate the lengths\n",
    "collaborative_length = len(collaborative_df)\n",
    "argilla_length = len(argilla_df)\n",
    "intel_length = len(intel_df)\n",
    "nectar_length = len(nectar_df)\n",
    "test_length = len(test_df)\n",
    "\n",
    "# Calculate the sum of lengths\n",
    "training_length = collaborative_length + argilla_length + intel_length + nectar_length\n",
    "\n",
    "# Print the lengths and the sum\n",
    "print(\"Length of collaborative_dataset.jsonl:\", collaborative_length)\n",
    "print(\"Length of argilla_dataset.jsonl:\", argilla_length)\n",
    "print(\"Length of intel_dataset.jsonl:\", intel_length)\n",
    "print(\"Length of nectar_dataset.jsonl:\", nectar_length)\n",
    "print()\n",
    "print(\"Total training length:\", training_length)\n",
    "print(\"Total test length:\", test_length)\n",
    "print(\"Ratio of test data:\", \"{:.2%}\".format(test_length / (training_length + test_length)))"
   ]
  },
  {
   "cell_type": "code",
   "execution_count": 201,
   "metadata": {},
   "outputs": [
    {
     "name": "stdout",
     "output_type": "stream",
     "text": [
      "Collaborative dataset columns schema is correct: ✅\n",
      "Argilla dataset ccolumns schema is correct: ✅\n",
      "Intel dataset columns schema is correct: ✅\n",
      "Nectar dataset columns schema is correct: ✅\n",
      "Test dataset columns schema is correct: ✅\n"
     ]
    }
   ],
   "source": [
    "print(\"Collaborative dataset columns schema is correct: \" + check_condition(set(collaborative_df.columns) == {\"prompt\", \"chosen\", \"rejected\"} and len(collaborative_df.columns) == 3))\n",
    "print(\"Argilla dataset ccolumns schema is correct: \" + check_condition(set(argilla_df.columns) == {\"prompt\", \"chosen\", \"rejected\"} and len(argilla_df.columns) == 3))\n",
    "print(\"Intel dataset columns schema is correct: \" + check_condition(set(intel_df.columns) == {\"prompt\", \"chosen\", \"rejected\"} and len(intel_df.columns) == 3))\n",
    "print(\"Nectar dataset columns schema is correct: \" + check_condition(set(nectar_df.columns) == {\"prompt\", \"chosen\", \"rejected\"} and len(nectar_df.columns) == 3))\n",
    "\n",
    "print(\"Test dataset columns schema is correct: \" + check_condition(set(nectar_df.columns) == {\"prompt\", \"chosen\", \"rejected\"} and len(nectar_df.columns) == 3))"
   ]
  },
  {
   "cell_type": "markdown",
   "metadata": {},
   "source": [
    "### MCQ datasets checks"
   ]
  },
  {
   "cell_type": "code",
   "execution_count": 202,
   "metadata": {},
   "outputs": [],
   "source": [
    "# Load the generated JSONL file\n",
    "mmlu_df = pd.read_json('../data/mcq_mmlu_dataset.jsonl', lines=True)\n",
    "mathqa_df = pd.read_json('../data/mcq_mathqa_dataset.jsonl', lines=True)\n",
    "aquarat_df = pd.read_json('../data/mcq_aquarat_dataset.jsonl', lines=True)\n",
    "\n",
    "test_mcq_df = pd.read_json('../data/test/mcq_test_dataset.jsonl', lines=True)"
   ]
  },
  {
   "cell_type": "code",
   "execution_count": 203,
   "metadata": {},
   "outputs": [
    {
     "name": "stdout",
     "output_type": "stream",
     "text": [
      "Length of mcq_mmlu_dataset.jsonl: 84865\n",
      "Length of mcq_mathqa_dataset.jsonl: 25361\n",
      "Length of mcq_aquarat_dataset.jsonl: 82846\n",
      "\n",
      "Total training length: 193072\n",
      "Total test length: 34074\n",
      "Ratio of test data: 15.00%\n"
     ]
    }
   ],
   "source": [
    "# Calculate the lengths\n",
    "mmlu_length = len(mmlu_df)\n",
    "mathqa_length = len(mathqa_df)\n",
    "aquarat_length = len(aquarat_df)\n",
    "test_mcq_length = len(test_mcq_df)\n",
    "\n",
    "# Calculate the sum of lengths\n",
    "trainning_mcq_length = mmlu_length + mathqa_length + aquarat_length\n",
    "\n",
    "# Print the lengths and the sum\n",
    "print(\"Length of mcq_mmlu_dataset.jsonl:\", mmlu_length)\n",
    "print(\"Length of mcq_mathqa_dataset.jsonl:\", mathqa_length)\n",
    "print(\"Length of mcq_aquarat_dataset.jsonl:\", aquarat_length)\n",
    "print()\n",
    "print(\"Total training length:\", trainning_mcq_length)\n",
    "print(\"Total test length:\", test_mcq_length)\n",
    "print(\"Ratio of test data:\", \"{:.2%}\".format(test_mcq_length / (trainning_mcq_length + test_mcq_length)))"
   ]
  },
  {
   "cell_type": "code",
   "execution_count": 204,
   "metadata": {},
   "outputs": [
    {
     "name": "stdout",
     "output_type": "stream",
     "text": [
      "MMLU dataset columns schema is correct: ✅\n",
      "MathQA dataset columns schema is correct: ✅\n",
      "Aquarat dataset columns schema is correct: ✅\n",
      "Test dataset columns schema is correct: ✅\n",
      "\n",
      "MMLU dataset answers content is correct: ✅\n",
      "MathQA dataset answers content is correct: ✅\n",
      "Aquarat dataset answers content is correct: ✅\n",
      "Test dataset answers content is correct: ✅\n"
     ]
    }
   ],
   "source": [
    "print(\"MMLU dataset columns schema is correct: \" + check_condition(set(mmlu_df.columns) == {\"subject\", \"question\", \"answer\"} and len(mathqa_df.columns) == 3))\n",
    "print(\"MathQA dataset columns schema is correct: \" + check_condition(set(mathqa_df.columns) == {\"subject\", \"question\", \"answer\"} and len(mathqa_df.columns) == 3))\n",
    "print(\"Aquarat dataset columns schema is correct: \" + check_condition(set(aquarat_df.columns) == {\"subject\", \"question\", \"answer\"} and len(aquarat_df.columns) == 3))\n",
    "print(\"Test dataset columns schema is correct: \" + check_condition(set(test_mcq_df.columns) == {\"subject\", \"question\", \"answer\"} and len(mathqa_df.columns) == 3))\n",
    "print()\n",
    "print(\"MMLU dataset answers content is correct: \" + check_condition(set(mmlu_df['answer']).issubset({\"A\", \"B\", \"C\", \"D\", \"E\"})))\n",
    "print(\"MathQA dataset answers content is correct: \" + check_condition(set(mathqa_df['answer']).issubset({\"A\", \"B\", \"C\", \"D\", \"E\"})))\n",
    "print(\"Aquarat dataset answers content is correct: \" + check_condition(set(aquarat_df['answer']).issubset({\"A\", \"B\", \"C\", \"D\", \"E\"})))\n",
    "print(\"Test dataset answers content is correct: \" + check_condition(set(test_mcq_df['answer']).issubset({\"A\", \"B\", \"C\", \"D\", \"E\"})))"
   ]
  }
 ],
 "metadata": {
  "kernelspec": {
   "display_name": "base",
   "language": "python",
   "name": "python3"
  },
  "language_info": {
   "codemirror_mode": {
    "name": "ipython",
    "version": 3
   },
   "file_extension": ".py",
   "mimetype": "text/x-python",
   "name": "python",
   "nbconvert_exporter": "python",
   "pygments_lexer": "ipython3",
   "version": "3.9.18"
  }
 },
 "nbformat": 4,
 "nbformat_minor": 2
}
